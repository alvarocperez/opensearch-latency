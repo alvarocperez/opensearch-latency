{
 "cells": [
  {
   "cell_type": "code",
   "execution_count": 69,
   "metadata": {
    "collapsed": true
   },
   "outputs": [
    {
     "data": {
      "text/plain": "True"
     },
     "execution_count": 69,
     "metadata": {},
     "output_type": "execute_result"
    }
   ],
   "source": [
    "import torch\n",
    "import pandas as pd\n",
    "from transformers import AutoModel, AutoTokenizer\n",
    "import json\n",
    "import numpy as np\n",
    "torch.cuda.is_available()"
   ]
  },
  {
   "cell_type": "code",
   "execution_count": 18,
   "outputs": [
    {
     "name": "stderr",
     "output_type": "stream",
     "text": [
      "Some weights of the model checkpoint at bert-base-multilingual-cased were not used when initializing BertModel: ['cls.predictions.transform.LayerNorm.weight', 'cls.predictions.transform.dense.weight', 'cls.seq_relationship.bias', 'cls.predictions.bias', 'cls.seq_relationship.weight', 'cls.predictions.decoder.weight', 'cls.predictions.transform.LayerNorm.bias', 'cls.predictions.transform.dense.bias']\n",
      "- This IS expected if you are initializing BertModel from the checkpoint of a model trained on another task or with another architecture (e.g. initializing a BertForSequenceClassification model from a BertForPreTraining model).\n",
      "- This IS NOT expected if you are initializing BertModel from the checkpoint of a model that you expect to be exactly identical (initializing a BertForSequenceClassification model from a BertForSequenceClassification model).\n"
     ]
    }
   ],
   "source": [
    "data = pd.read_csv(\"reviews/data.csv\")\n",
    "\n",
    "\n",
    "BERT_MODEL = \"bert-base-multilingual-cased\"\n",
    "tokenizer = AutoTokenizer.from_pretrained(BERT_MODEL)\n",
    "model = AutoModel.from_pretrained(BERT_MODEL)\n",
    "\n",
    "device = \"cuda:0\" if torch.cuda.is_available() else \"cpu\"\n",
    "\n",
    "model = model.to(device)\n",
    "\n",
    "def get_embeddings(text: str):\n",
    "\n",
    "    tokens = tokenizer.encode(text, return_tensors=\"pt\", padding=True, truncation=True)\n",
    "    input_args = tokens.to(device)\n",
    "\n",
    "    with torch.no_grad():\n",
    "        embedding = torch.mean(model(input_args).last_hidden_state, 1).detach().cpu().numpy()\n",
    "\n",
    "    return embedding\n",
    "\n",
    "vectors = np.vstack(data.review.apply(get_embeddings))\n"
   ],
   "metadata": {
    "collapsed": false
   }
  },
  {
   "cell_type": "code",
   "execution_count": 19,
   "outputs": [
    {
     "data": {
      "text/plain": "array([[-0.22426929, -0.38108316, -0.16628402, ...,  0.4690356 ,\n        -0.19725499,  0.05362346],\n       [-0.3083737 , -0.05212977, -0.16806833, ...,  0.67877436,\n        -0.18201084, -0.04950444],\n       [-0.34247276, -0.13616918, -0.55700266, ...,  0.6820839 ,\n        -0.2980253 ,  0.08833668],\n       ...,\n       [-0.35085803, -0.19258827, -0.2842389 , ...,  0.70045114,\n        -0.11468146, -0.0144497 ],\n       [-0.21089825, -0.19063358, -0.39455807, ...,  1.0517277 ,\n         0.08442838,  0.02160566],\n       [-0.34841445, -0.3802213 , -0.42617595, ...,  0.5886858 ,\n        -0.31345776,  0.72619945]], dtype=float32)"
     },
     "execution_count": 19,
     "metadata": {},
     "output_type": "execute_result"
    }
   ],
   "source": [
    "vectors"
   ],
   "metadata": {
    "collapsed": false
   }
  },
  {
   "cell_type": "code",
   "execution_count": 31,
   "outputs": [],
   "source": [
    "import requests\n",
    "\n",
    "headers = {\n",
    "    'Content-Type': 'application/json',\n",
    "}\n",
    "\n",
    "json_data = {\n",
    "    'settings': {\n",
    "        'knn': True,\n",
    "        'knn.algo_param.ef_search': 100,\n",
    "    },\n",
    "    'mappings': {\n",
    "        'properties': {\n",
    "            'vector_data': {\n",
    "                'type': 'knn_vector',\n",
    "                'dimension': 768,\n",
    "                'method': {\n",
    "                    'name': 'hnsw',\n",
    "                    'space_type': 'cosinesimil',\n",
    "                    'engine': 'nmslib',\n",
    "                },\n",
    "            },\n",
    "        },\n",
    "    },\n",
    "}\n",
    "\n",
    "response = requests.put('https://search-elastica-xxx.eu-west-1.es.amazonaws.com/elastica/',\n",
    "                        headers=headers, json=json_data, auth=('alvarocp', 'xxx'))"
   ],
   "metadata": {
    "collapsed": false,
    "pycharm": {
     "name": "#%%\n"
    }
   }
  },
  {
   "cell_type": "code",
   "execution_count": 32,
   "outputs": [
    {
     "data": {
      "text/plain": "'{\"acknowledged\":true,\"shards_acknowledged\":true,\"index\":\"elastica\"}'"
     },
     "execution_count": 32,
     "metadata": {},
     "output_type": "execute_result"
    }
   ],
   "source": [
    "response.text\n"
   ],
   "metadata": {
    "collapsed": false
   }
  },
  {
   "cell_type": "code",
   "execution_count": 81,
   "outputs": [
    {
     "ename": "KeyboardInterrupt",
     "evalue": "",
     "output_type": "error",
     "traceback": [
      "\u001B[0;31m---------------------------------------------------------------------------\u001B[0m",
      "\u001B[0;31mKeyboardInterrupt\u001B[0m                         Traceback (most recent call last)",
      "Cell \u001B[0;32mIn[81], line 12\u001B[0m\n\u001B[1;32m     10\u001B[0m bulk_file \u001B[38;5;241m=\u001B[39m index \u001B[38;5;241m+\u001B[39m json\u001B[38;5;241m.\u001B[39mdumps({ \u001B[38;5;124m\"\u001B[39m\u001B[38;5;124mvector_data\u001B[39m\u001B[38;5;124m\"\u001B[39m: \u001B[38;5;28mlist\u001B[39m(vector\u001B[38;5;241m.\u001B[39mastype(\u001B[38;5;28mfloat\u001B[39m)), \u001B[38;5;124m\"\u001B[39m\u001B[38;5;124mcategory\u001B[39m\u001B[38;5;124m\"\u001B[39m: \u001B[38;5;28mint\u001B[39m(np\u001B[38;5;241m.\u001B[39mrandom\u001B[38;5;241m.\u001B[39mrandint(\u001B[38;5;241m0\u001B[39m, \u001B[38;5;241m10\u001B[39m, \u001B[38;5;241m1\u001B[39m)[\u001B[38;5;241m0\u001B[39m]) })\n\u001B[1;32m     11\u001B[0m bulk_file \u001B[38;5;241m+\u001B[39m\u001B[38;5;241m=\u001B[39m \u001B[38;5;124m\"\u001B[39m\u001B[38;5;130;01m\\n\u001B[39;00m\u001B[38;5;124m\"\u001B[39m\n\u001B[0;32m---> 12\u001B[0m response \u001B[38;5;241m=\u001B[39m \u001B[43mrequests\u001B[49m\u001B[38;5;241;43m.\u001B[39;49m\u001B[43mpost\u001B[49m\u001B[43m(\u001B[49m\u001B[38;5;124;43m'\u001B[39;49m\u001B[38;5;124;43mhttps://search-elastica-uhkvn6ynb5fagwvgkvmlobwgne.eu-west-1.es.amazonaws.com/_bulk\u001B[39;49m\u001B[38;5;124;43m'\u001B[39;49m\u001B[43m,\u001B[49m\u001B[43m \u001B[49m\u001B[43mheaders\u001B[49m\u001B[38;5;241;43m=\u001B[39;49m\u001B[43mheaders\u001B[49m\u001B[43m,\u001B[49m\u001B[43m \u001B[49m\u001B[43mdata\u001B[49m\u001B[38;5;241;43m=\u001B[39;49m\u001B[43mbulk_file\u001B[49m\u001B[43m,\u001B[49m\u001B[43m \u001B[49m\u001B[43mauth\u001B[49m\u001B[38;5;241;43m=\u001B[39;49m\u001B[43m(\u001B[49m\u001B[38;5;124;43m'\u001B[39;49m\u001B[38;5;124;43malvarocp\u001B[39;49m\u001B[38;5;124;43m'\u001B[39;49m\u001B[43m,\u001B[49m\u001B[43m \u001B[49m\u001B[38;5;124;43m'\u001B[39;49m\u001B[38;5;124;xxxx)g;R\u001B[39;49m\u001B[38;5;124;43m'\u001B[39;49m\u001B[43m)\u001B[49m\u001B[43m)\u001B[49m\n\u001B[1;32m     14\u001B[0m \u001B[38;5;28;01mif\u001B[39;00m response\u001B[38;5;241m.\u001B[39mstatus_code \u001B[38;5;241m!=\u001B[39m \u001B[38;5;241m200\u001B[39m:\n\u001B[1;32m     15\u001B[0m     \u001B[38;5;28;01mbreak\u001B[39;00m\n",
      "File \u001B[0;32m~/projects/gpu/venv/lib/python3.10/site-packages/requests/api.py:115\u001B[0m, in \u001B[0;36mpost\u001B[0;34m(url, data, json, **kwargs)\u001B[0m\n\u001B[1;32m    103\u001B[0m \u001B[38;5;28;01mdef\u001B[39;00m \u001B[38;5;21mpost\u001B[39m(url, data\u001B[38;5;241m=\u001B[39m\u001B[38;5;28;01mNone\u001B[39;00m, json\u001B[38;5;241m=\u001B[39m\u001B[38;5;28;01mNone\u001B[39;00m, \u001B[38;5;241m*\u001B[39m\u001B[38;5;241m*\u001B[39mkwargs):\n\u001B[1;32m    104\u001B[0m \u001B[38;5;250m    \u001B[39m\u001B[38;5;124mr\u001B[39m\u001B[38;5;124;03m\"\"\"Sends a POST request.\u001B[39;00m\n\u001B[1;32m    105\u001B[0m \n\u001B[1;32m    106\u001B[0m \u001B[38;5;124;03m    :param url: URL for the new :class:`Request` object.\u001B[39;00m\n\u001B[0;32m   (...)\u001B[0m\n\u001B[1;32m    112\u001B[0m \u001B[38;5;124;03m    :rtype: requests.Response\u001B[39;00m\n\u001B[1;32m    113\u001B[0m \u001B[38;5;124;03m    \"\"\"\u001B[39;00m\n\u001B[0;32m--> 115\u001B[0m     \u001B[38;5;28;01mreturn\u001B[39;00m \u001B[43mrequest\u001B[49m\u001B[43m(\u001B[49m\u001B[38;5;124;43m\"\u001B[39;49m\u001B[38;5;124;43mpost\u001B[39;49m\u001B[38;5;124;43m\"\u001B[39;49m\u001B[43m,\u001B[49m\u001B[43m \u001B[49m\u001B[43murl\u001B[49m\u001B[43m,\u001B[49m\u001B[43m \u001B[49m\u001B[43mdata\u001B[49m\u001B[38;5;241;43m=\u001B[39;49m\u001B[43mdata\u001B[49m\u001B[43m,\u001B[49m\u001B[43m \u001B[49m\u001B[43mjson\u001B[49m\u001B[38;5;241;43m=\u001B[39;49m\u001B[43mjson\u001B[49m\u001B[43m,\u001B[49m\u001B[43m \u001B[49m\u001B[38;5;241;43m*\u001B[39;49m\u001B[38;5;241;43m*\u001B[39;49m\u001B[43mkwargs\u001B[49m\u001B[43m)\u001B[49m\n",
      "File \u001B[0;32m~/projects/gpu/venv/lib/python3.10/site-packages/requests/api.py:59\u001B[0m, in \u001B[0;36mrequest\u001B[0;34m(method, url, **kwargs)\u001B[0m\n\u001B[1;32m     55\u001B[0m \u001B[38;5;66;03m# By using the 'with' statement we are sure the session is closed, thus we\u001B[39;00m\n\u001B[1;32m     56\u001B[0m \u001B[38;5;66;03m# avoid leaving sockets open which can trigger a ResourceWarning in some\u001B[39;00m\n\u001B[1;32m     57\u001B[0m \u001B[38;5;66;03m# cases, and look like a memory leak in others.\u001B[39;00m\n\u001B[1;32m     58\u001B[0m \u001B[38;5;28;01mwith\u001B[39;00m sessions\u001B[38;5;241m.\u001B[39mSession() \u001B[38;5;28;01mas\u001B[39;00m session:\n\u001B[0;32m---> 59\u001B[0m     \u001B[38;5;28;01mreturn\u001B[39;00m \u001B[43msession\u001B[49m\u001B[38;5;241;43m.\u001B[39;49m\u001B[43mrequest\u001B[49m\u001B[43m(\u001B[49m\u001B[43mmethod\u001B[49m\u001B[38;5;241;43m=\u001B[39;49m\u001B[43mmethod\u001B[49m\u001B[43m,\u001B[49m\u001B[43m \u001B[49m\u001B[43murl\u001B[49m\u001B[38;5;241;43m=\u001B[39;49m\u001B[43murl\u001B[49m\u001B[43m,\u001B[49m\u001B[43m \u001B[49m\u001B[38;5;241;43m*\u001B[39;49m\u001B[38;5;241;43m*\u001B[39;49m\u001B[43mkwargs\u001B[49m\u001B[43m)\u001B[49m\n",
      "File \u001B[0;32m~/projects/gpu/venv/lib/python3.10/site-packages/requests/sessions.py:587\u001B[0m, in \u001B[0;36mSession.request\u001B[0;34m(self, method, url, params, data, headers, cookies, files, auth, timeout, allow_redirects, proxies, hooks, stream, verify, cert, json)\u001B[0m\n\u001B[1;32m    582\u001B[0m send_kwargs \u001B[38;5;241m=\u001B[39m {\n\u001B[1;32m    583\u001B[0m     \u001B[38;5;124m\"\u001B[39m\u001B[38;5;124mtimeout\u001B[39m\u001B[38;5;124m\"\u001B[39m: timeout,\n\u001B[1;32m    584\u001B[0m     \u001B[38;5;124m\"\u001B[39m\u001B[38;5;124mallow_redirects\u001B[39m\u001B[38;5;124m\"\u001B[39m: allow_redirects,\n\u001B[1;32m    585\u001B[0m }\n\u001B[1;32m    586\u001B[0m send_kwargs\u001B[38;5;241m.\u001B[39mupdate(settings)\n\u001B[0;32m--> 587\u001B[0m resp \u001B[38;5;241m=\u001B[39m \u001B[38;5;28;43mself\u001B[39;49m\u001B[38;5;241;43m.\u001B[39;49m\u001B[43msend\u001B[49m\u001B[43m(\u001B[49m\u001B[43mprep\u001B[49m\u001B[43m,\u001B[49m\u001B[43m \u001B[49m\u001B[38;5;241;43m*\u001B[39;49m\u001B[38;5;241;43m*\u001B[39;49m\u001B[43msend_kwargs\u001B[49m\u001B[43m)\u001B[49m\n\u001B[1;32m    589\u001B[0m \u001B[38;5;28;01mreturn\u001B[39;00m resp\n",
      "File \u001B[0;32m~/projects/gpu/venv/lib/python3.10/site-packages/requests/sessions.py:701\u001B[0m, in \u001B[0;36mSession.send\u001B[0;34m(self, request, **kwargs)\u001B[0m\n\u001B[1;32m    698\u001B[0m start \u001B[38;5;241m=\u001B[39m preferred_clock()\n\u001B[1;32m    700\u001B[0m \u001B[38;5;66;03m# Send the request\u001B[39;00m\n\u001B[0;32m--> 701\u001B[0m r \u001B[38;5;241m=\u001B[39m \u001B[43madapter\u001B[49m\u001B[38;5;241;43m.\u001B[39;49m\u001B[43msend\u001B[49m\u001B[43m(\u001B[49m\u001B[43mrequest\u001B[49m\u001B[43m,\u001B[49m\u001B[43m \u001B[49m\u001B[38;5;241;43m*\u001B[39;49m\u001B[38;5;241;43m*\u001B[39;49m\u001B[43mkwargs\u001B[49m\u001B[43m)\u001B[49m\n\u001B[1;32m    703\u001B[0m \u001B[38;5;66;03m# Total elapsed time of the request (approximately)\u001B[39;00m\n\u001B[1;32m    704\u001B[0m elapsed \u001B[38;5;241m=\u001B[39m preferred_clock() \u001B[38;5;241m-\u001B[39m start\n",
      "File \u001B[0;32m~/projects/gpu/venv/lib/python3.10/site-packages/requests/adapters.py:489\u001B[0m, in \u001B[0;36mHTTPAdapter.send\u001B[0;34m(self, request, stream, timeout, verify, cert, proxies)\u001B[0m\n\u001B[1;32m    487\u001B[0m \u001B[38;5;28;01mtry\u001B[39;00m:\n\u001B[1;32m    488\u001B[0m     \u001B[38;5;28;01mif\u001B[39;00m \u001B[38;5;129;01mnot\u001B[39;00m chunked:\n\u001B[0;32m--> 489\u001B[0m         resp \u001B[38;5;241m=\u001B[39m \u001B[43mconn\u001B[49m\u001B[38;5;241;43m.\u001B[39;49m\u001B[43murlopen\u001B[49m\u001B[43m(\u001B[49m\n\u001B[1;32m    490\u001B[0m \u001B[43m            \u001B[49m\u001B[43mmethod\u001B[49m\u001B[38;5;241;43m=\u001B[39;49m\u001B[43mrequest\u001B[49m\u001B[38;5;241;43m.\u001B[39;49m\u001B[43mmethod\u001B[49m\u001B[43m,\u001B[49m\n\u001B[1;32m    491\u001B[0m \u001B[43m            \u001B[49m\u001B[43murl\u001B[49m\u001B[38;5;241;43m=\u001B[39;49m\u001B[43murl\u001B[49m\u001B[43m,\u001B[49m\n\u001B[1;32m    492\u001B[0m \u001B[43m            \u001B[49m\u001B[43mbody\u001B[49m\u001B[38;5;241;43m=\u001B[39;49m\u001B[43mrequest\u001B[49m\u001B[38;5;241;43m.\u001B[39;49m\u001B[43mbody\u001B[49m\u001B[43m,\u001B[49m\n\u001B[1;32m    493\u001B[0m \u001B[43m            \u001B[49m\u001B[43mheaders\u001B[49m\u001B[38;5;241;43m=\u001B[39;49m\u001B[43mrequest\u001B[49m\u001B[38;5;241;43m.\u001B[39;49m\u001B[43mheaders\u001B[49m\u001B[43m,\u001B[49m\n\u001B[1;32m    494\u001B[0m \u001B[43m            \u001B[49m\u001B[43mredirect\u001B[49m\u001B[38;5;241;43m=\u001B[39;49m\u001B[38;5;28;43;01mFalse\u001B[39;49;00m\u001B[43m,\u001B[49m\n\u001B[1;32m    495\u001B[0m \u001B[43m            \u001B[49m\u001B[43massert_same_host\u001B[49m\u001B[38;5;241;43m=\u001B[39;49m\u001B[38;5;28;43;01mFalse\u001B[39;49;00m\u001B[43m,\u001B[49m\n\u001B[1;32m    496\u001B[0m \u001B[43m            \u001B[49m\u001B[43mpreload_content\u001B[49m\u001B[38;5;241;43m=\u001B[39;49m\u001B[38;5;28;43;01mFalse\u001B[39;49;00m\u001B[43m,\u001B[49m\n\u001B[1;32m    497\u001B[0m \u001B[43m            \u001B[49m\u001B[43mdecode_content\u001B[49m\u001B[38;5;241;43m=\u001B[39;49m\u001B[38;5;28;43;01mFalse\u001B[39;49;00m\u001B[43m,\u001B[49m\n\u001B[1;32m    498\u001B[0m \u001B[43m            \u001B[49m\u001B[43mretries\u001B[49m\u001B[38;5;241;43m=\u001B[39;49m\u001B[38;5;28;43mself\u001B[39;49m\u001B[38;5;241;43m.\u001B[39;49m\u001B[43mmax_retries\u001B[49m\u001B[43m,\u001B[49m\n\u001B[1;32m    499\u001B[0m \u001B[43m            \u001B[49m\u001B[43mtimeout\u001B[49m\u001B[38;5;241;43m=\u001B[39;49m\u001B[43mtimeout\u001B[49m\u001B[43m,\u001B[49m\n\u001B[1;32m    500\u001B[0m \u001B[43m        \u001B[49m\u001B[43m)\u001B[49m\n\u001B[1;32m    502\u001B[0m     \u001B[38;5;66;03m# Send the request.\u001B[39;00m\n\u001B[1;32m    503\u001B[0m     \u001B[38;5;28;01melse\u001B[39;00m:\n\u001B[1;32m    504\u001B[0m         \u001B[38;5;28;01mif\u001B[39;00m \u001B[38;5;28mhasattr\u001B[39m(conn, \u001B[38;5;124m\"\u001B[39m\u001B[38;5;124mproxy_pool\u001B[39m\u001B[38;5;124m\"\u001B[39m):\n",
      "File \u001B[0;32m~/projects/gpu/venv/lib/python3.10/site-packages/urllib3/connectionpool.py:703\u001B[0m, in \u001B[0;36mHTTPConnectionPool.urlopen\u001B[0;34m(self, method, url, body, headers, retries, redirect, assert_same_host, timeout, pool_timeout, release_conn, chunked, body_pos, **response_kw)\u001B[0m\n\u001B[1;32m    700\u001B[0m     \u001B[38;5;28mself\u001B[39m\u001B[38;5;241m.\u001B[39m_prepare_proxy(conn)\n\u001B[1;32m    702\u001B[0m \u001B[38;5;66;03m# Make the request on the httplib connection object.\u001B[39;00m\n\u001B[0;32m--> 703\u001B[0m httplib_response \u001B[38;5;241m=\u001B[39m \u001B[38;5;28;43mself\u001B[39;49m\u001B[38;5;241;43m.\u001B[39;49m\u001B[43m_make_request\u001B[49m\u001B[43m(\u001B[49m\n\u001B[1;32m    704\u001B[0m \u001B[43m    \u001B[49m\u001B[43mconn\u001B[49m\u001B[43m,\u001B[49m\n\u001B[1;32m    705\u001B[0m \u001B[43m    \u001B[49m\u001B[43mmethod\u001B[49m\u001B[43m,\u001B[49m\n\u001B[1;32m    706\u001B[0m \u001B[43m    \u001B[49m\u001B[43murl\u001B[49m\u001B[43m,\u001B[49m\n\u001B[1;32m    707\u001B[0m \u001B[43m    \u001B[49m\u001B[43mtimeout\u001B[49m\u001B[38;5;241;43m=\u001B[39;49m\u001B[43mtimeout_obj\u001B[49m\u001B[43m,\u001B[49m\n\u001B[1;32m    708\u001B[0m \u001B[43m    \u001B[49m\u001B[43mbody\u001B[49m\u001B[38;5;241;43m=\u001B[39;49m\u001B[43mbody\u001B[49m\u001B[43m,\u001B[49m\n\u001B[1;32m    709\u001B[0m \u001B[43m    \u001B[49m\u001B[43mheaders\u001B[49m\u001B[38;5;241;43m=\u001B[39;49m\u001B[43mheaders\u001B[49m\u001B[43m,\u001B[49m\n\u001B[1;32m    710\u001B[0m \u001B[43m    \u001B[49m\u001B[43mchunked\u001B[49m\u001B[38;5;241;43m=\u001B[39;49m\u001B[43mchunked\u001B[49m\u001B[43m,\u001B[49m\n\u001B[1;32m    711\u001B[0m \u001B[43m\u001B[49m\u001B[43m)\u001B[49m\n\u001B[1;32m    713\u001B[0m \u001B[38;5;66;03m# If we're going to release the connection in ``finally:``, then\u001B[39;00m\n\u001B[1;32m    714\u001B[0m \u001B[38;5;66;03m# the response doesn't need to know about the connection. Otherwise\u001B[39;00m\n\u001B[1;32m    715\u001B[0m \u001B[38;5;66;03m# it will also try to release it and we'll have a double-release\u001B[39;00m\n\u001B[1;32m    716\u001B[0m \u001B[38;5;66;03m# mess.\u001B[39;00m\n\u001B[1;32m    717\u001B[0m response_conn \u001B[38;5;241m=\u001B[39m conn \u001B[38;5;28;01mif\u001B[39;00m \u001B[38;5;129;01mnot\u001B[39;00m release_conn \u001B[38;5;28;01melse\u001B[39;00m \u001B[38;5;28;01mNone\u001B[39;00m\n",
      "File \u001B[0;32m~/projects/gpu/venv/lib/python3.10/site-packages/urllib3/connectionpool.py:449\u001B[0m, in \u001B[0;36mHTTPConnectionPool._make_request\u001B[0;34m(self, conn, method, url, timeout, chunked, **httplib_request_kw)\u001B[0m\n\u001B[1;32m    444\u001B[0m             httplib_response \u001B[38;5;241m=\u001B[39m conn\u001B[38;5;241m.\u001B[39mgetresponse()\n\u001B[1;32m    445\u001B[0m         \u001B[38;5;28;01mexcept\u001B[39;00m \u001B[38;5;167;01mBaseException\u001B[39;00m \u001B[38;5;28;01mas\u001B[39;00m e:\n\u001B[1;32m    446\u001B[0m             \u001B[38;5;66;03m# Remove the TypeError from the exception chain in\u001B[39;00m\n\u001B[1;32m    447\u001B[0m             \u001B[38;5;66;03m# Python 3 (including for exceptions like SystemExit).\u001B[39;00m\n\u001B[1;32m    448\u001B[0m             \u001B[38;5;66;03m# Otherwise it looks like a bug in the code.\u001B[39;00m\n\u001B[0;32m--> 449\u001B[0m             \u001B[43msix\u001B[49m\u001B[38;5;241;43m.\u001B[39;49m\u001B[43mraise_from\u001B[49m\u001B[43m(\u001B[49m\u001B[43me\u001B[49m\u001B[43m,\u001B[49m\u001B[43m \u001B[49m\u001B[38;5;28;43;01mNone\u001B[39;49;00m\u001B[43m)\u001B[49m\n\u001B[1;32m    450\u001B[0m \u001B[38;5;28;01mexcept\u001B[39;00m (SocketTimeout, BaseSSLError, SocketError) \u001B[38;5;28;01mas\u001B[39;00m e:\n\u001B[1;32m    451\u001B[0m     \u001B[38;5;28mself\u001B[39m\u001B[38;5;241m.\u001B[39m_raise_timeout(err\u001B[38;5;241m=\u001B[39me, url\u001B[38;5;241m=\u001B[39murl, timeout_value\u001B[38;5;241m=\u001B[39mread_timeout)\n",
      "File \u001B[0;32m<string>:3\u001B[0m, in \u001B[0;36mraise_from\u001B[0;34m(value, from_value)\u001B[0m\n",
      "File \u001B[0;32m~/projects/gpu/venv/lib/python3.10/site-packages/urllib3/connectionpool.py:444\u001B[0m, in \u001B[0;36mHTTPConnectionPool._make_request\u001B[0;34m(self, conn, method, url, timeout, chunked, **httplib_request_kw)\u001B[0m\n\u001B[1;32m    441\u001B[0m \u001B[38;5;28;01mexcept\u001B[39;00m \u001B[38;5;167;01mTypeError\u001B[39;00m:\n\u001B[1;32m    442\u001B[0m     \u001B[38;5;66;03m# Python 3\u001B[39;00m\n\u001B[1;32m    443\u001B[0m     \u001B[38;5;28;01mtry\u001B[39;00m:\n\u001B[0;32m--> 444\u001B[0m         httplib_response \u001B[38;5;241m=\u001B[39m \u001B[43mconn\u001B[49m\u001B[38;5;241;43m.\u001B[39;49m\u001B[43mgetresponse\u001B[49m\u001B[43m(\u001B[49m\u001B[43m)\u001B[49m\n\u001B[1;32m    445\u001B[0m     \u001B[38;5;28;01mexcept\u001B[39;00m \u001B[38;5;167;01mBaseException\u001B[39;00m \u001B[38;5;28;01mas\u001B[39;00m e:\n\u001B[1;32m    446\u001B[0m         \u001B[38;5;66;03m# Remove the TypeError from the exception chain in\u001B[39;00m\n\u001B[1;32m    447\u001B[0m         \u001B[38;5;66;03m# Python 3 (including for exceptions like SystemExit).\u001B[39;00m\n\u001B[1;32m    448\u001B[0m         \u001B[38;5;66;03m# Otherwise it looks like a bug in the code.\u001B[39;00m\n\u001B[1;32m    449\u001B[0m         six\u001B[38;5;241m.\u001B[39mraise_from(e, \u001B[38;5;28;01mNone\u001B[39;00m)\n",
      "File \u001B[0;32m/usr/lib/python3.10/http/client.py:1374\u001B[0m, in \u001B[0;36mHTTPConnection.getresponse\u001B[0;34m(self)\u001B[0m\n\u001B[1;32m   1372\u001B[0m \u001B[38;5;28;01mtry\u001B[39;00m:\n\u001B[1;32m   1373\u001B[0m     \u001B[38;5;28;01mtry\u001B[39;00m:\n\u001B[0;32m-> 1374\u001B[0m         \u001B[43mresponse\u001B[49m\u001B[38;5;241;43m.\u001B[39;49m\u001B[43mbegin\u001B[49m\u001B[43m(\u001B[49m\u001B[43m)\u001B[49m\n\u001B[1;32m   1375\u001B[0m     \u001B[38;5;28;01mexcept\u001B[39;00m \u001B[38;5;167;01mConnectionError\u001B[39;00m:\n\u001B[1;32m   1376\u001B[0m         \u001B[38;5;28mself\u001B[39m\u001B[38;5;241m.\u001B[39mclose()\n",
      "File \u001B[0;32m/usr/lib/python3.10/http/client.py:318\u001B[0m, in \u001B[0;36mHTTPResponse.begin\u001B[0;34m(self)\u001B[0m\n\u001B[1;32m    316\u001B[0m \u001B[38;5;66;03m# read until we get a non-100 response\u001B[39;00m\n\u001B[1;32m    317\u001B[0m \u001B[38;5;28;01mwhile\u001B[39;00m \u001B[38;5;28;01mTrue\u001B[39;00m:\n\u001B[0;32m--> 318\u001B[0m     version, status, reason \u001B[38;5;241m=\u001B[39m \u001B[38;5;28;43mself\u001B[39;49m\u001B[38;5;241;43m.\u001B[39;49m\u001B[43m_read_status\u001B[49m\u001B[43m(\u001B[49m\u001B[43m)\u001B[49m\n\u001B[1;32m    319\u001B[0m     \u001B[38;5;28;01mif\u001B[39;00m status \u001B[38;5;241m!=\u001B[39m CONTINUE:\n\u001B[1;32m    320\u001B[0m         \u001B[38;5;28;01mbreak\u001B[39;00m\n",
      "File \u001B[0;32m/usr/lib/python3.10/http/client.py:279\u001B[0m, in \u001B[0;36mHTTPResponse._read_status\u001B[0;34m(self)\u001B[0m\n\u001B[1;32m    278\u001B[0m \u001B[38;5;28;01mdef\u001B[39;00m \u001B[38;5;21m_read_status\u001B[39m(\u001B[38;5;28mself\u001B[39m):\n\u001B[0;32m--> 279\u001B[0m     line \u001B[38;5;241m=\u001B[39m \u001B[38;5;28mstr\u001B[39m(\u001B[38;5;28;43mself\u001B[39;49m\u001B[38;5;241;43m.\u001B[39;49m\u001B[43mfp\u001B[49m\u001B[38;5;241;43m.\u001B[39;49m\u001B[43mreadline\u001B[49m\u001B[43m(\u001B[49m\u001B[43m_MAXLINE\u001B[49m\u001B[43m \u001B[49m\u001B[38;5;241;43m+\u001B[39;49m\u001B[43m \u001B[49m\u001B[38;5;241;43m1\u001B[39;49m\u001B[43m)\u001B[49m, \u001B[38;5;124m\"\u001B[39m\u001B[38;5;124miso-8859-1\u001B[39m\u001B[38;5;124m\"\u001B[39m)\n\u001B[1;32m    280\u001B[0m     \u001B[38;5;28;01mif\u001B[39;00m \u001B[38;5;28mlen\u001B[39m(line) \u001B[38;5;241m>\u001B[39m _MAXLINE:\n\u001B[1;32m    281\u001B[0m         \u001B[38;5;28;01mraise\u001B[39;00m LineTooLong(\u001B[38;5;124m\"\u001B[39m\u001B[38;5;124mstatus line\u001B[39m\u001B[38;5;124m\"\u001B[39m)\n",
      "File \u001B[0;32m/usr/lib/python3.10/socket.py:705\u001B[0m, in \u001B[0;36mSocketIO.readinto\u001B[0;34m(self, b)\u001B[0m\n\u001B[1;32m    703\u001B[0m \u001B[38;5;28;01mwhile\u001B[39;00m \u001B[38;5;28;01mTrue\u001B[39;00m:\n\u001B[1;32m    704\u001B[0m     \u001B[38;5;28;01mtry\u001B[39;00m:\n\u001B[0;32m--> 705\u001B[0m         \u001B[38;5;28;01mreturn\u001B[39;00m \u001B[38;5;28;43mself\u001B[39;49m\u001B[38;5;241;43m.\u001B[39;49m\u001B[43m_sock\u001B[49m\u001B[38;5;241;43m.\u001B[39;49m\u001B[43mrecv_into\u001B[49m\u001B[43m(\u001B[49m\u001B[43mb\u001B[49m\u001B[43m)\u001B[49m\n\u001B[1;32m    706\u001B[0m     \u001B[38;5;28;01mexcept\u001B[39;00m timeout:\n\u001B[1;32m    707\u001B[0m         \u001B[38;5;28mself\u001B[39m\u001B[38;5;241m.\u001B[39m_timeout_occurred \u001B[38;5;241m=\u001B[39m \u001B[38;5;28;01mTrue\u001B[39;00m\n",
      "File \u001B[0;32m/usr/lib/python3.10/ssl.py:1274\u001B[0m, in \u001B[0;36mSSLSocket.recv_into\u001B[0;34m(self, buffer, nbytes, flags)\u001B[0m\n\u001B[1;32m   1270\u001B[0m     \u001B[38;5;28;01mif\u001B[39;00m flags \u001B[38;5;241m!=\u001B[39m \u001B[38;5;241m0\u001B[39m:\n\u001B[1;32m   1271\u001B[0m         \u001B[38;5;28;01mraise\u001B[39;00m \u001B[38;5;167;01mValueError\u001B[39;00m(\n\u001B[1;32m   1272\u001B[0m           \u001B[38;5;124m\"\u001B[39m\u001B[38;5;124mnon-zero flags not allowed in calls to recv_into() on \u001B[39m\u001B[38;5;132;01m%s\u001B[39;00m\u001B[38;5;124m\"\u001B[39m \u001B[38;5;241m%\u001B[39m\n\u001B[1;32m   1273\u001B[0m           \u001B[38;5;28mself\u001B[39m\u001B[38;5;241m.\u001B[39m\u001B[38;5;18m__class__\u001B[39m)\n\u001B[0;32m-> 1274\u001B[0m     \u001B[38;5;28;01mreturn\u001B[39;00m \u001B[38;5;28;43mself\u001B[39;49m\u001B[38;5;241;43m.\u001B[39;49m\u001B[43mread\u001B[49m\u001B[43m(\u001B[49m\u001B[43mnbytes\u001B[49m\u001B[43m,\u001B[49m\u001B[43m \u001B[49m\u001B[43mbuffer\u001B[49m\u001B[43m)\u001B[49m\n\u001B[1;32m   1275\u001B[0m \u001B[38;5;28;01melse\u001B[39;00m:\n\u001B[1;32m   1276\u001B[0m     \u001B[38;5;28;01mreturn\u001B[39;00m \u001B[38;5;28msuper\u001B[39m()\u001B[38;5;241m.\u001B[39mrecv_into(buffer, nbytes, flags)\n",
      "File \u001B[0;32m/usr/lib/python3.10/ssl.py:1130\u001B[0m, in \u001B[0;36mSSLSocket.read\u001B[0;34m(self, len, buffer)\u001B[0m\n\u001B[1;32m   1128\u001B[0m \u001B[38;5;28;01mtry\u001B[39;00m:\n\u001B[1;32m   1129\u001B[0m     \u001B[38;5;28;01mif\u001B[39;00m buffer \u001B[38;5;129;01mis\u001B[39;00m \u001B[38;5;129;01mnot\u001B[39;00m \u001B[38;5;28;01mNone\u001B[39;00m:\n\u001B[0;32m-> 1130\u001B[0m         \u001B[38;5;28;01mreturn\u001B[39;00m \u001B[38;5;28;43mself\u001B[39;49m\u001B[38;5;241;43m.\u001B[39;49m\u001B[43m_sslobj\u001B[49m\u001B[38;5;241;43m.\u001B[39;49m\u001B[43mread\u001B[49m\u001B[43m(\u001B[49m\u001B[38;5;28;43mlen\u001B[39;49m\u001B[43m,\u001B[49m\u001B[43m \u001B[49m\u001B[43mbuffer\u001B[49m\u001B[43m)\u001B[49m\n\u001B[1;32m   1131\u001B[0m     \u001B[38;5;28;01melse\u001B[39;00m:\n\u001B[1;32m   1132\u001B[0m         \u001B[38;5;28;01mreturn\u001B[39;00m \u001B[38;5;28mself\u001B[39m\u001B[38;5;241m.\u001B[39m_sslobj\u001B[38;5;241m.\u001B[39mread(\u001B[38;5;28mlen\u001B[39m)\n",
      "\u001B[0;31mKeyboardInterrupt\u001B[0m: "
     ]
    }
   ],
   "source": [
    "bulk = []\n",
    "\n",
    "headers = {\n",
    "    'Content-Type': 'application/json',\n",
    "}\n",
    "\n",
    "for i, vector in enumerate(vectors):\n",
    "    index = json.dumps({ \"index\": { \"_index\": \"elastica\", \"_id\": f\"{i}\" } })\n",
    "    index += \"\\n\"\n",
    "    bulk_file = index + json.dumps({ \"vector_data\": list(vector.astype(float)), \"category\": int(np.random.randint(0, 10, 1)[0]) })\n",
    "    bulk_file += \"\\n\"\n",
    "    response = requests.post('https://search-elastica-xxx.eu-west-1.es.amazonaws.com/_bulk', headers=headers, data=bulk_file, auth=('alvarocp', 'xxx'))\n",
    "\n",
    "    if response.status_code != 200:\n",
    "        break\n",
    "\n",
    "\n",
    "\n",
    "\n",
    "response.text\n"
   ],
   "metadata": {
    "collapsed": false,
    "pycharm": {
     "name": "#%%\n"
    }
   }
  },
  {
   "cell_type": "code",
   "execution_count": 103,
   "outputs": [],
   "source": [
    "from opensearchpy import OpenSearch, RequestsHttpConnection, AWSV4SignerAuth\n",
    "import boto3\n",
    "\n",
    "session = boto3.Session(\n",
    "    aws_access_key_id=\"xxx\",\n",
    "    aws_secret_access_key=\"xxxx\",\n",
    ")\n",
    "\n",
    "host = \"search-elastica-xxx.eu-west-1.es.amazonaws.com\"\n",
    "service = 'es'\n",
    "credentials = session.get_credentials()\n",
    "awsauth = AWSV4SignerAuth(credentials, \"eu-west-1\", service)\n",
    "\n",
    "client = OpenSearch(\n",
    "    hosts = [{'host': host, 'port': 443}],\n",
    "    http_auth = awsauth,\n",
    "    use_ssl = True,\n",
    "    verify_certs = True,\n",
    "    connection_class = RequestsHttpConnection,\n",
    "    pool_maxsize = 20\n",
    ")\n"
   ],
   "metadata": {
    "collapsed": false,
    "pycharm": {
     "name": "#%%\n"
    }
   }
  },
  {
   "cell_type": "code",
   "execution_count": 104,
   "outputs": [
    {
     "data": {
      "text/plain": "{'_index': 'elastica',\n '_id': '0',\n '_version': 2,\n '_seq_no': 1,\n '_primary_term': 1,\n 'found': True,\n '_source': {'vector_data': [-0.22426928579807281,\n   -0.3810831606388092,\n   -0.16628402471542358,\n   0.1347707211971283,\n   0.3719465732574463,\n   -0.021697569638490677,\n   -0.20046158134937286,\n   0.3307285010814667,\n   -0.27769920229911804,\n   -0.2192084938287735,\n   0.16504989564418793,\n   0.5258060097694397,\n   0.24465250968933105,\n   0.3334207534790039,\n   0.27607619762420654,\n   -0.2972034513950348,\n   0.7605559825897217,\n   -0.5224223136901855,\n   -0.19517506659030914,\n   -0.07840140908956528,\n   -0.24117442965507507,\n   -0.033128637820482254,\n   0.2409949153661728,\n   0.03166266158223152,\n   0.16067564487457275,\n   0.4150790870189667,\n   -0.49226993322372437,\n   0.010445085354149342,\n   -0.2685537338256836,\n   -0.3034372627735138,\n   -0.07982682436704636,\n   0.33790507912635803,\n   -0.15606217086315155,\n   0.4880124628543854,\n   -0.14308702945709229,\n   0.21544113755226135,\n   0.272797554731369,\n   0.04343583807349205,\n   0.3198978006839752,\n   0.10585930943489075,\n   0.00963656697422266,\n   0.3456871807575226,\n   0.150828555226326,\n   -0.26355481147766113,\n   -0.06801384687423706,\n   -0.30380791425704956,\n   0.39970430731773376,\n   0.09780702739953995,\n   -0.19401471316814423,\n   0.371960312128067,\n   -0.23255640268325806,\n   -0.2348550260066986,\n   0.13558721542358398,\n   0.3225909471511841,\n   0.0013239721301943064,\n   0.27019399404525757,\n   0.05221593752503395,\n   -0.06033516302704811,\n   0.19517192244529724,\n   -0.22137783467769623,\n   0.31800952553749084,\n   0.22411583364009857,\n   0.07892151921987534,\n   -0.3455365002155304,\n   -0.17152024805545807,\n   -0.045502305030822754,\n   -0.022912928834557533,\n   -0.0660717710852623,\n   0.10968170315027237,\n   0.04839159548282623,\n   -0.24621298909187317,\n   0.15224306285381317,\n   0.037876635789871216,\n   0.22120974957942963,\n   -0.1007571890950203,\n   1.4546394348144531,\n   0.10582540929317474,\n   -0.2318015843629837,\n   -0.9765230417251587,\n   -0.2710130214691162,\n   0.10761882364749908,\n   0.25572407245635986,\n   0.28801730275154114,\n   0.12274656444787979,\n   -0.12084108591079712,\n   -0.15550707280635834,\n   -0.005406659562140703,\n   -0.1141333281993866,\n   0.6465488076210022,\n   -0.8632999658584595,\n   0.3241387605667114,\n   0.05868500471115112,\n   0.9451844096183777,\n   0.3071969747543335,\n   -0.39217984676361084,\n   0.53150475025177,\n   -0.08180605620145798,\n   0.022154739126563072,\n   0.16178840398788452,\n   0.03617251291871071,\n   -0.39548394083976746,\n   -0.2281695008277893,\n   0.8990097045898438,\n   -0.2688051164150238,\n   0.4331340193748474,\n   -0.1250973492860794,\n   0.06502684950828552,\n   0.21967093646526337,\n   -0.23360441625118256,\n   0.5399337410926819,\n   0.02769121341407299,\n   0.011902921833097935,\n   0.032789286226034164,\n   -0.08825751394033432,\n   0.14634379744529724,\n   -0.6361614465713501,\n   0.1469222754240036,\n   -0.052059173583984375,\n   0.31713420152664185,\n   -0.41178950667381287,\n   -0.24707452952861786,\n   -0.09512747824192047,\n   -0.1468787044286728,\n   0.28955861926078796,\n   0.25663942098617554,\n   0.05546410009264946,\n   -0.12510451674461365,\n   0.06106875464320183,\n   0.24982813000679016,\n   -0.20444928109645844,\n   -0.08902698755264282,\n   -0.3229939043521881,\n   0.07109156250953674,\n   0.1135253980755806,\n   0.2860347628593445,\n   -0.11157349497079849,\n   0.5893903970718384,\n   -0.06257518380880356,\n   0.00524602085351944,\n   0.4455597400665283,\n   0.14890621602535248,\n   0.1654556393623352,\n   -0.2182846963405609,\n   -0.18841488659381866,\n   -0.0033021143171936274,\n   -0.06050802767276764,\n   -0.24863864481449127,\n   0.3923884332180023,\n   0.016168203204870224,\n   -0.38098084926605225,\n   -0.14251218736171722,\n   0.2920739948749542,\n   0.41634124517440796,\n   -0.03311920166015625,\n   -0.528166651725769,\n   0.15092211961746216,\n   0.44879913330078125,\n   0.14855769276618958,\n   -0.15003637969493866,\n   0.024636108428239822,\n   0.24836954474449158,\n   0.23510615527629852,\n   -1.074777364730835,\n   0.6002415418624878,\n   0.08584848791360855,\n   -0.18236859142780304,\n   -0.0511682853102684,\n   0.024608749896287918,\n   -0.19737446308135986,\n   0.34259822964668274,\n   0.06468944251537323,\n   0.07841397076845169,\n   -0.5098515748977661,\n   -0.06266233325004578,\n   0.5678598284721375,\n   0.49476557970046997,\n   -0.12112084776163101,\n   -0.14872466027736664,\n   0.04973657801747322,\n   -0.33557042479515076,\n   -0.2247694581747055,\n   0.3390965461730957,\n   0.02266075275838375,\n   -0.2529774308204651,\n   0.5063802599906921,\n   -0.15449540317058563,\n   0.02223670296370983,\n   -0.3688020706176758,\n   -0.005567426327615976,\n   -0.27584224939346313,\n   0.02476908080279827,\n   -0.08985001593828201,\n   -0.2576068341732025,\n   0.2096051126718521,\n   -0.008818554691970348,\n   0.79127436876297,\n   -0.4000532031059265,\n   0.2687455713748932,\n   0.17280422151088715,\n   0.3633008599281311,\n   -0.419937402009964,\n   -0.1589437872171402,\n   0.14548231661319733,\n   -0.09651235491037369,\n   -0.21610145270824432,\n   0.5184186697006226,\n   0.004854707978665829,\n   -0.1161947101354599,\n   0.1613282412290573,\n   0.9960998296737671,\n   -0.07061609625816345,\n   0.11802494525909424,\n   0.574375569820404,\n   -0.13101285696029663,\n   0.3183029294013977,\n   0.10181593149900436,\n   -0.2673720717430115,\n   0.1678362488746643,\n   0.21150220930576324,\n   0.2581137418746948,\n   0.07016804814338684,\n   0.06300913542509079,\n   -0.09471238404512405,\n   -0.2879687547683716,\n   -0.03907112404704094,\n   -0.26755866408348083,\n   0.2387121021747589,\n   0.6066619157791138,\n   -0.2588333189487457,\n   -0.49044641852378845,\n   -0.43521109223365784,\n   -0.6580594778060913,\n   -0.21009287238121033,\n   0.3156943917274475,\n   -0.055606238543987274,\n   0.1318189948797226,\n   0.2842159867286682,\n   -0.02967071533203125,\n   -0.19495943188667297,\n   0.06454046070575714,\n   -0.2186846286058426,\n   0.07768482714891434,\n   0.08902690559625626,\n   0.19260524213314056,\n   0.33929356932640076,\n   -0.037757523357868195,\n   -0.6139811873435974,\n   -0.13215148448944092,\n   -0.20900295674800873,\n   -0.07918157428503036,\n   -0.03149532154202461,\n   0.19045299291610718,\n   -0.1972629874944687,\n   0.2698948383331299,\n   0.005645161960273981,\n   0.1909370720386505,\n   0.019511183723807335,\n   0.017728466540575027,\n   0.393605500459671,\n   -0.4467167556285858,\n   0.24179257452487946,\n   -0.8906384706497192,\n   -0.2550048232078552,\n   0.30260196328163147,\n   0.21325840055942535,\n   0.3474310636520386,\n   -0.19882981479167938,\n   0.3074939250946045,\n   -0.18389160931110382,\n   0.026180582121014595,\n   -0.20029839873313904,\n   0.2061060070991516,\n   0.324476033449173,\n   0.12412881851196289,\n   0.009665440768003464,\n   0.1657363921403885,\n   0.20575475692749023,\n   -0.026313498616218567,\n   -0.4960775375366211,\n   0.10391173511743546,\n   -0.1524108350276947,\n   -0.5577325224876404,\n   -0.09720323979854584,\n   -0.3227153718471527,\n   -0.42856770753860474,\n   -0.017663398757576942,\n   0.05857294797897339,\n   -0.17042674124240875,\n   0.38115811347961426,\n   -0.43060410022735596,\n   -0.20975036919116974,\n   -0.4241503179073334,\n   -0.03405187651515007,\n   0.36738714575767517,\n   0.0013062376528978348,\n   -0.2714945077896118,\n   -0.8343367576599121,\n   0.20692120492458344,\n   0.002881733700633049,\n   -0.32969042658805847,\n   0.3036259412765503,\n   0.5621660947799683,\n   -0.01612827740609646,\n   0.0518050454556942,\n   -0.2068670094013214,\n   0.1385096311569214,\n   0.013456659391522408,\n   -0.5227850675582886,\n   0.6954563856124878,\n   -0.011856836266815662,\n   -0.44854629039764404,\n   0.5160489678382874,\n   -0.3668344020843506,\n   0.6555725336074829,\n   0.16303545236587524,\n   -0.052340153604745865,\n   0.09685534238815308,\n   -0.09623444080352783,\n   -0.6337540745735168,\n   0.0416218601167202,\n   -0.24897824227809906,\n   0.17315027117729187,\n   -0.006048833020031452,\n   -0.06920596957206726,\n   -0.3349219560623169,\n   -0.029740778729319572,\n   -0.013883420266211033,\n   -0.4324406683444977,\n   0.009656521491706371,\n   -0.17057493329048157,\n   -0.2791866064071655,\n   1.183427333831787,\n   0.13439133763313293,\n   -0.058218684047460556,\n   -0.13275499641895294,\n   -0.19677290320396423,\n   -0.0030165985226631165,\n   -0.1385166347026825,\n   -0.6726330518722534,\n   -0.47211024165153503,\n   -0.07424293458461761,\n   -0.2410488724708557,\n   0.9216264486312866,\n   -0.26626941561698914,\n   0.23143309354782104,\n   -0.17634093761444092,\n   0.004121594130992889,\n   0.6145615577697754,\n   -0.19307629764080048,\n   -0.5385926365852356,\n   0.24339476227760315,\n   -0.19247320294380188,\n   0.2383398562669754,\n   0.09074439853429794,\n   -0.22802159190177917,\n   0.18055444955825806,\n   -0.7505184412002563,\n   0.25363367795944214,\n   0.28662732243537903,\n   0.18170078098773956,\n   0.2385968714952469,\n   0.05863644555211067,\n   -0.111269511282444,\n   -0.11671899259090424,\n   -0.5302846431732178,\n   0.4032171666622162,\n   -0.05206868052482605,\n   -0.34617361426353455,\n   0.19086642563343048,\n   0.428264319896698,\n   0.454702764749527,\n   1.0344202518463135,\n   -0.6552517414093018,\n   -0.9515197277069092,\n   0.2663084864616394,\n   0.06346666067838669,\n   -0.052207253873348236,\n   -0.6690428256988525,\n   0.7687612175941467,\n   0.006083277519792318,\n   0.2754797041416168,\n   -0.3032687306404114,\n   0.5564031004905701,\n   -0.12326988577842712,\n   0.11102532595396042,\n   -0.04534793272614479,\n   0.24165412783622742,\n   -0.16302214562892914,\n   0.5838317275047302,\n   -0.281747043132782,\n   0.0020653835963457823,\n   0.3495524823665619,\n   0.1444321572780609,\n   -0.19601958990097046,\n   -0.07917658984661102,\n   0.1489940881729126,\n   0.48270729184150696,\n   -0.03891104459762573,\n   -0.5372753143310547,\n   0.010922510176897049,\n   0.019811874255537987,\n   0.24265383183956146,\n   0.1116049736738205,\n   0.43943801522254944,\n   -0.1640705019235611,\n   0.3511691093444824,\n   0.35776200890541077,\n   -0.01329092402011156,\n   -0.19407919049263,\n   -0.017373353242874146,\n   -0.068834088742733,\n   0.30613231658935547,\n   0.3041808605194092,\n   0.4112980365753174,\n   0.22058643400669098,\n   0.45442479848861694,\n   -1.0750173330307007,\n   0.25134003162384033,\n   0.1620907187461853,\n   0.29472655057907104,\n   0.025670716539025307,\n   -0.07002674043178558,\n   0.1867406815290451,\n   -2.862738609313965,\n   0.11145559698343277,\n   0.033056631684303284,\n   -0.5570692420005798,\n   0.23932822048664093,\n   -0.7783883213996887,\n   -0.03394388034939766,\n   -0.6015649437904358,\n   0.0374763086438179,\n   -0.06285858154296875,\n   -0.046457890421152115,\n   -0.14363490045070648,\n   -0.0271823201328516,\n   0.2139386683702469,\n   -0.04594417288899422,\n   -0.35082727670669556,\n   -0.03295740857720375,\n   0.3580929934978485,\n   -0.18027350306510925,\n   0.1395193189382553,\n   -0.02784278430044651,\n   -0.07454134523868561,\n   -0.27940937876701355,\n   -0.20244576036930084,\n   -0.5572164058685303,\n   -0.003215753473341465,\n   0.15053173899650574,\n   0.3323312997817993,\n   -1.1797717809677124,\n   0.07629702985286713,\n   -0.02905946411192417,\n   -0.03606758639216423,\n   -0.11528559029102325,\n   -0.49401429295539856,\n   0.07930915057659149,\n   0.013367194682359695,\n   -0.6730045080184937,\n   0.0203506238758564,\n   0.07854945212602615,\n   0.012949814088642597,\n   0.18744830787181854,\n   -0.1174963191151619,\n   -0.5981560349464417,\n   -0.1566254198551178,\n   0.11115894466638565,\n   0.2176940143108368,\n   0.3139045238494873,\n   -0.734510064125061,\n   0.4597778916358948,\n   0.09999557584524155,\n   0.026164738461375237,\n   -0.15600542724132538,\n   -0.07112368941307068,\n   0.0812685489654541,\n   -0.27396219968795776,\n   0.11790888011455536,\n   0.09507585316896439,\n   -0.1687588393688202,\n   -0.03720497339963913,\n   0.9176920056343079,\n   0.1074991300702095,\n   -0.0008222584147006273,\n   0.045862697064876556,\n   0.32219305634498596,\n   0.18787412345409393,\n   0.20511358976364136,\n   -0.13858142495155334,\n   0.0992337018251419,\n   -0.2156917005777359,\n   -0.34724175930023193,\n   -0.9240269064903259,\n   0.2950313091278076,\n   -0.05727745220065117,\n   0.054662082344293594,\n   -0.08536592870950699,\n   -0.3943157494068146,\n   0.29117482900619507,\n   -0.3885749876499176,\n   0.34660640358924866,\n   -0.027483750134706497,\n   -0.07622872292995453,\n   -0.41652101278305054,\n   -0.44970667362213135,\n   0.00880586076527834,\n   0.20795764029026031,\n   -0.12459532171487808,\n   0.19359317421913147,\n   -0.2188030183315277,\n   -1.0291991233825684,\n   -0.05013435333967209,\n   0.32408812642097473,\n   0.05606025829911232,\n   0.28774455189704895,\n   0.25564542412757874,\n   -0.05769691243767738,\n   0.010242104530334473,\n   -0.07161208242177963,\n   -0.14351670444011688,\n   0.31923675537109375,\n   0.38356468081474304,\n   -0.06121617555618286,\n   0.18525755405426025,\n   -0.2754516899585724,\n   -0.29131880402565,\n   0.017125170677900314,\n   -0.04849592596292496,\n   0.15384508669376373,\n   -0.3461165726184845,\n   0.013263770379126072,\n   -0.38792189955711365,\n   0.4156477749347687,\n   0.04686810076236725,\n   0.6233091354370117,\n   0.009653724730014801,\n   0.08421429991722107,\n   -0.08903951942920685,\n   0.5890364646911621,\n   -0.07799546420574188,\n   0.04987989738583565,\n   -0.14508745074272156,\n   0.15349255502223969,\n   0.12943114340305328,\n   0.11407681554555893,\n   -0.13970404863357544,\n   -0.046354446560144424,\n   -0.3549363315105438,\n   -0.06766726076602936,\n   0.15340209007263184,\n   -0.2619074881076813,\n   0.3807385563850403,\n   0.05713723972439766,\n   -0.21603791415691376,\n   0.1947227120399475,\n   0.2058633714914322,\n   -0.22183851897716522,\n   0.24722571671009064,\n   0.12888313829898834,\n   -0.47546133399009705,\n   -0.1546059399843216,\n   0.14676041901111603,\n   -0.12611952424049377,\n   0.19223743677139282,\n   -0.05026896670460701,\n   -0.3800641894340515,\n   0.10849864780902863,\n   -0.2468869388103485,\n   0.1289091408252716,\n   0.0804026648402214,\n   0.31490853428840637,\n   0.10009865462779999,\n   0.2249384969472885,\n   0.02124916948378086,\n   0.13872867822647095,\n   0.007029120810329914,\n   -0.19278903305530548,\n   -0.18432801961898804,\n   -0.3983321487903595,\n   -0.20653432607650757,\n   -0.3359919488430023,\n   -0.011187664233148098,\n   0.09809055179357529,\n   -0.0010916233295574784,\n   -0.31119829416275024,\n   -0.03021717630326748,\n   0.26575732231140137,\n   -0.26495131850242615,\n   -0.14900130033493042,\n   0.2603009343147278,\n   -0.022079363465309143,\n   -0.2342347502708435,\n   0.12919579446315765,\n   0.1339641660451889,\n   -0.19295752048492432,\n   0.2363320142030716,\n   -0.2612740993499756,\n   0.25725945830345154,\n   0.2003885805606842,\n   0.06223239749670029,\n   -0.2851473391056061,\n   -0.050637245178222656,\n   -0.5837286114692688,\n   -0.6653951406478882,\n   -0.04608182609081268,\n   0.03926907479763031,\n   0.0566522553563118,\n   -0.5611459612846375,\n   -0.31510642170906067,\n   0.1495702564716339,\n   -0.15640489757061005,\n   -0.043824322521686554,\n   -0.39204439520835876,\n   -0.32917097210884094,\n   -0.6729127168655396,\n   -0.4358156621456146,\n   0.08914048224687576,\n   0.14207491278648376,\n   0.21890799701213837,\n   0.27356624603271484,\n   -0.02361328899860382,\n   0.4541856348514557,\n   -0.25305506587028503,\n   0.33847305178642273,\n   0.320620059967041,\n   0.14474380016326904,\n   -0.04158315062522888,\n   0.05430055037140846,\n   -0.47523748874664307,\n   -0.29312366247177124,\n   -0.10188070684671402,\n   -0.2733564078807831,\n   -0.19018930196762085,\n   0.011771523393690586,\n   0.5007384419441223,\n   -0.1801963597536087,\n   -0.01698758266866207,\n   0.018466845154762268,\n   -0.15645980834960938,\n   -0.21997764706611633,\n   0.22912123799324036,\n   -0.121873639523983,\n   -0.34206312894821167,\n   0.08000317215919495,\n   0.16095057129859924,\n   -0.5564114451408386,\n   0.41988930106163025,\n   -0.4645446538925171,\n   -0.36766454577445984,\n   0.47537487745285034,\n   -0.23290285468101501,\n   0.2884475588798523,\n   -0.025557681918144226,\n   0.09705110639333725,\n   0.5563976764678955,\n   0.3561374545097351,\n   -0.17930595576763153,\n   -0.6348767876625061,\n   0.32320988178253174,\n   0.44191524386405945,\n   0.5046721696853638,\n   0.19869787991046906,\n   -0.5539868474006653,\n   -0.07772461324930191,\n   0.3041157126426697,\n   -0.7077922821044922,\n   -0.17808100581169128,\n   0.10265549272298813,\n   -0.0116004329174757,\n   0.029409078881144524,\n   0.25386741757392883,\n   0.22186093032360077,\n   0.3066927492618561,\n   0.1330186277627945,\n   0.18465006351470947,\n   -0.20684489607810974,\n   0.12023521214723587,\n   -0.3466981053352356,\n   0.20659947395324707,\n   -0.339126855134964,\n   0.08013427257537842,\n   -0.028825251385569572,\n   -0.11745085567235947,\n   -0.03854096308350563,\n   0.24780555069446564,\n   0.10193940997123718,\n   -0.0223542507737875,\n   -0.20511199533939362,\n   0.19841289520263672,\n   0.19161833822727203,\n   0.17421746253967285,\n   0.12117285281419754,\n   -0.28791385889053345,\n   -0.4238481819629669,\n   0.2474186271429062,\n   0.2024221271276474,\n   -0.06196734681725502,\n   0.44700556993484497,\n   -0.38273975253105164,\n   0.12003494054079056,\n   -0.5915311574935913,\n   -0.05003928765654564,\n   -0.5267045497894287,\n   -0.44659969210624695,\n   -0.3245023488998413,\n   -0.39871060848236084,\n   -0.585328221321106,\n   -0.24504786729812622,\n   -0.2382323145866394,\n   0.6085271239280701,\n   -0.02145097590982914,\n   -0.07815741002559662,\n   -0.4349634349346161,\n   -0.07150404900312424,\n   -0.4146714508533478,\n   -0.00010229455074295402,\n   -0.5918583869934082,\n   -0.36495962738990784,\n   0.024944882839918137,\n   0.00665241526439786,\n   0.11565947532653809,\n   -0.6719157695770264,\n   -0.08010002225637436,\n   0.16215628385543823,\n   0.055734891444444656,\n   -0.08165737241506577,\n   0.2731460630893707,\n   0.17194081842899323,\n   -0.23236529529094696,\n   0.1597900390625,\n   -1.4413032531738281,\n   -0.10952862352132797,\n   -0.17236869037151337,\n   0.30943986773490906,\n   -0.5364826917648315,\n   0.17110967636108398,\n   0.7978264093399048,\n   0.033783573657274246,\n   0.12682555615901947,\n   -0.023214755579829216,\n   -0.3927910029888153,\n   0.07097555696964264,\n   -0.15574273467063904,\n   0.08857263624668121,\n   0.01098800078034401,\n   0.5903570055961609,\n   0.10861079394817352,\n   0.3797675669193268,\n   -0.317692369222641,\n   -0.16080865263938904,\n   0.24522073566913605,\n   -0.2417340874671936,\n   -0.13889986276626587,\n   0.13745558261871338,\n   0.02082955092191696,\n   -0.6400464177131653,\n   0.3273133933544159,\n   0.19454632699489594,\n   0.1779213398694992,\n   -0.3207491934299469,\n   -0.6407349705696106,\n   0.03450663387775421,\n   -0.6584423184394836,\n   0.32217538356781006,\n   0.4690355956554413,\n   -0.1972549855709076,\n   0.05362346023321152],\n  'category': 9}}"
     },
     "execution_count": 104,
     "metadata": {},
     "output_type": "execute_result"
    }
   ],
   "source": [
    "client.get(index=\"elastica\", id=\"0\")"
   ],
   "metadata": {
    "collapsed": false
   }
  },
  {
   "cell_type": "code",
   "execution_count": 238,
   "outputs": [
    {
     "data": {
      "text/plain": "{'took': 19,\n 'timed_out': False,\n '_shards': {'total': 5, 'successful': 5, 'skipped': 0, 'failed': 0},\n 'hits': {'total': {'value': 43, 'relation': 'eq'},\n  'max_score': 0.99999976,\n  'hits': [{'_index': 'elastica',\n    '_id': '22351',\n    '_score': 0.99999976,\n    'fields': {'category': [5]}},\n   {'_index': 'elastica',\n    '_id': '3477',\n    '_score': 0.979587,\n    'fields': {'category': [2]}}]}}"
     },
     "execution_count": 238,
     "metadata": {},
     "output_type": "execute_result"
    }
   ],
   "source": [
    "query = {\n",
    "    \"size\": 2,\n",
    "    \"query\": {\"knn\": {\"vector_data\": {\"vector\": list(vector.astype(float)), \"k\": 2}}},\n",
    "    \"_source\": False,\n",
    "    \"fields\": [\"id\", \"category\"],\n",
    "}\n",
    "response = client.search(body=query, index=\"elastica\")\n",
    "response"
   ],
   "metadata": {
    "collapsed": false
   }
  }
 ],
 "metadata": {
  "kernelspec": {
   "display_name": "Python 3",
   "language": "python",
   "name": "python3"
  },
  "language_info": {
   "codemirror_mode": {
    "name": "ipython",
    "version": 2
   },
   "file_extension": ".py",
   "mimetype": "text/x-python",
   "name": "python",
   "nbconvert_exporter": "python",
   "pygments_lexer": "ipython2",
   "version": "2.7.6"
  }
 },
 "nbformat": 4,
 "nbformat_minor": 0
}
